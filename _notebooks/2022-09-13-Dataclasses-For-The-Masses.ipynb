{
 "cells": [
  {
   "cell_type": "markdown",
   "metadata": {},
   "source": [
    "# Dataclasses For The Masses\n",
    "> Make big data small again!\n",
    "\n",
    "- toc: true \n",
    "- badges: true\n",
    "- comments: true\n",
    "- categories: [attrs, dataclasses, numpy, pandas, OLAP]\n",
    "- image: images/arrays-hector-j-rivas-87hFrPk3V-s-unsplash.jpeg"
   ]
  },
  {
   "cell_type": "markdown",
   "metadata": {},
   "source": [
    "## DaaS Made Easy\n",
    "\n",
    "Many data analysts, data engineers, and data scientists (trying to be inclusive here) build tables for a living.  The product of their work is data.  The desired features of the data product vary from customer to customer.  A finance executive prefers a bunch of spreadsheets.  An operations team likes their dashboards. For consumption within the data team, you open up dataframes-as-a-service shop.  If you are pursuing enterprise-grade solutions, there's a high chance they will be centered around [OLAP databases](https://blog.treasuredata.com/blog/2016/02/10/whats-the-difference-between-aws-redshift-aurora/).\n",
    "\n",
    "I would like to share a Python tool that helps me design, document, and deploy my tables.  The goal was to make the data class declaration as concise as it gets, so that one can prototype rapidly and arrive at the optimal data model.\n",
    "\n",
    "```\n",
    "class SweetTable:\n",
    "    a: datatype1\n",
    "    b: datatype2\n",
    "```\n",
    "\n",
    "You might notice parallels to ORM solutions like [SQLAlchemy](https://docs.sqlalchemy.org/en/14/orm/quickstart.html) and [Django](https://docs.djangoproject.com/en/4.1/topics/db/models/).\n",
    "\n",
    "> Django `Model` is the single, definitive source of information about your data. It contains the essential fields and behaviors of the data you’re storing. Generally, each model maps to a single database table.  \n",
    "\n",
    "\n",
    "\n",
    "```\n",
    "from django.db import models\n",
    "\n",
    "class Musician(models.Model):\n",
    "    first_name = models.CharField(max_length=50)\n",
    "    last_name = models.CharField(max_length=50)\n",
    "    instrument = models.CharField(max_length=100)\n",
    "\n",
    "class Album(models.Model):\n",
    "    artist = models.ForeignKey(Musician, on_delete=models.CASCADE)\n",
    "    name = models.CharField(max_length=100)\n",
    "    release_date = models.DateField()\n",
    "    num_stars = models.IntegerField()\n",
    "```\n",
    "\n",
    "The main issue with existing Python ORMs is that they are made for transactional tasks, where row-by-row data manipulation is common and data relationships are important.  I want none of that.  What do I want?  I want what The Most Interesting Data Engineer In The World (TMIDEITW) wants.\n",
    "\n",
    "**What does TMIDEITW want?**\n",
    "+ Her Parquet files smell of rich mahogany.  \n",
    "+ Her data types are enforced on every continent.  Even the NULLs.  \n",
    "+ She does not often add data. But when she does, she adds a billion rows.  \n",
    "\n",
    "\n",
    "In less interesting but more clear terms, we want to construct **dataclasses** for a future **columnar database**:\n",
    "+ efficient, typed, nullable data structures\n",
    "+ interfaces with pandas for familiar analytical tasks \n",
    "+ on-demand conversion to `pyarrow` objects, en route to Parquet files\n",
    "\n",
    "**Why not `pandas` or `arrow` or...?**\n",
    "\n",
    "> I strongly feel that [Arrow](https://arrow.apache.org/docs/python/index.html) is a key technology for the next generation of data science tools. I laid out my vision for this recently in my 2017 JupyterCon keynote.\n",
    "\n",
    "*&ndash;Wes McKinney (creator of Pandas)*\n",
    "\n",
    "Pandas rules.  It's like a Swiss-army knife - you have all kinds of tools but they're not optimal for the tasks.  The price you pay: it's slow.  Pandas defaults to the most accommodating data types: `object`, `np.float64`, `np.int64`.  Can some of your fields be casted to something more efficient?  My loose definition of a boundary between *small data* and *big data* is the amount of RAM of your laptop.  Optimizing your data structures, starting with data types, can make \"big\" data \"small\" again.\n",
    "\n",
    "Arrow is harder to say no to.  It's efficient, typed, and nullable.  There are [neat pandas-like functions](https://arrow.apache.org/docs/python/compute.html) not offered by the more math-heavy numpy.  The library is large, but it's already required for writing parquet files.  Probably the main reason for not choosing Pyarrow is the desire to meet the data pros where they are, and today this means `numpy`.  But don't worry: both `pd.DataFrame` and pyarrow table will be at your fingertips.  We do not consider [Python's native typed arrays](https://docs.python.org/3/library/array.html) - not to be confused with lists!  The fact that one needs to be reminded that they're not the same speaks a lot to how often they are used."
   ]
  },
  {
   "cell_type": "markdown",
   "metadata": {
    "tags": []
   },
   "source": [
    "## Implementation\n",
    "\n",
    "Read through the story or skip <a href=\"#In-The-End\">get to the point</a>."
   ]
  },
  {
   "cell_type": "markdown",
   "metadata": {
    "tags": []
   },
   "source": [
    "### Minimal Example\n",
    "\n",
    "Let's start with a very simple class with two short `numpy` arrays as predefined attributes.  We'll also define a function that performs a simple analytical task, a row-wise sum.  I spell out `Two` in the class name to remind me that we have two data elements."
   ]
  },
  {
   "cell_type": "code",
   "execution_count": 1,
   "metadata": {},
   "outputs": [
    {
     "data": {
      "text/plain": [
       "array([ 1111,     1, -9777])"
      ]
     },
     "execution_count": 1,
     "metadata": {},
     "output_type": "execute_result"
    }
   ],
   "source": [
    "import numpy as np\n",
    "\n",
    "class SimpleDataclassTwo:\n",
    "    a = np.array([-123, 1, 99])\n",
    "    b = np.array([1234, 0, -9876])\n",
    "    \n",
    "    def row_sum(self):\n",
    "        return self.a + self.b\n",
    "\n",
    "simpledata2 = SimpleDataclassTwo()\n",
    "simpledata2.row_sum()"
   ]
  },
  {
   "cell_type": "code",
   "execution_count": 2,
   "metadata": {},
   "outputs": [
    {
     "data": {
      "text/plain": [
       "<__main__.SimpleDataclassTwo at 0x7fda41f5ef70>"
      ]
     },
     "execution_count": 2,
     "metadata": {},
     "output_type": "execute_result"
    }
   ],
   "source": [
    "simpledata2"
   ]
  },
  {
   "cell_type": "markdown",
   "metadata": {},
   "source": [
    "that was not very helpful... but at least we can access the attributes:"
   ]
  },
  {
   "cell_type": "code",
   "execution_count": 3,
   "metadata": {},
   "outputs": [
    {
     "data": {
      "text/plain": [
       "array([-123,    1,   99])"
      ]
     },
     "execution_count": 3,
     "metadata": {},
     "output_type": "execute_result"
    }
   ],
   "source": [
    "simpledata2.a"
   ]
  },
  {
   "cell_type": "code",
   "execution_count": 4,
   "metadata": {},
   "outputs": [
    {
     "data": {
      "text/plain": [
       "array([ 1234,     0, -9876])"
      ]
     },
     "execution_count": 4,
     "metadata": {},
     "output_type": "execute_result"
    }
   ],
   "source": [
    "simpledata2.b"
   ]
  },
  {
   "cell_type": "markdown",
   "metadata": {},
   "source": [
    "try to make another instance?"
   ]
  },
  {
   "cell_type": "code",
   "execution_count": 5,
   "metadata": {},
   "outputs": [
    {
     "name": "stdout",
     "output_type": "stream",
     "text": [
      "failed, because we don't have __init__\n"
     ]
    }
   ],
   "source": [
    "try:\n",
    "    SimpleDataclassTwo(np.array([1,2]), np.array([41, 40]))\n",
    "except TypeError:\n",
    "    print(\"failed, because we don't have __init__\")"
   ]
  },
  {
   "cell_type": "markdown",
   "metadata": {},
   "source": [
    "...and that's about it.  Before we start writing `__init__` and `__repr__`, let me introduce you to your new best friend: `attrs`"
   ]
  },
  {
   "cell_type": "markdown",
   "metadata": {},
   "source": [
    "### Attrs\n",
    "\n",
    "> `attrs` is the Python package that will bring back the joy of writing classes.  Trusted by NASA for Mars missions since 2020!\n",
    "\n",
    "&ndash; https://www.attrs.org/en/stable/index.html\n",
    "\n",
    "NB: if you've previously used `attrs`, they [recently](https://www.attrs.org/en/stable/changelog.html#id40) switched from `@attr.s(auto_attrib=True)` to `@attrs.define`."
   ]
  },
  {
   "cell_type": "code",
   "execution_count": 6,
   "metadata": {},
   "outputs": [],
   "source": [
    "import attr\n",
    "import attrs"
   ]
  },
  {
   "cell_type": "code",
   "execution_count": 7,
   "metadata": {},
   "outputs": [
    {
     "data": {
      "text/plain": [
       "AttrsDataclassTwo(a=array([1, 2]), b=array([41, 40]))"
      ]
     },
     "execution_count": 7,
     "metadata": {},
     "output_type": "execute_result"
    }
   ],
   "source": [
    "@attrs.define(slots=False)\n",
    "class AttrsDataclassTwo:\n",
    "    a: np.array = np.array([-123, 1, 99])\n",
    "    b: np.array = np.array([1234, 0, -9876])\n",
    "    \n",
    "    def row_sum(self):\n",
    "        return self.a + self.b\n",
    "\n",
    "attrs_data2 = AttrsDataclassTwo(np.array([1,2]), np.array([41, 40]))\n",
    "attrs_data2"
   ]
  },
  {
   "cell_type": "markdown",
   "metadata": {},
   "source": [
    "With one decorator, two problems with the original `SimpleDataclassTwo` are solved before you knew they were problems.  Let's learn more about this class instance.  For this purpose, I often reach for `__dict__`:"
   ]
  },
  {
   "cell_type": "code",
   "execution_count": 8,
   "metadata": {},
   "outputs": [
    {
     "data": {
      "text/plain": [
       "{'a': array([1, 2]), 'b': array([41, 40])}"
      ]
     },
     "execution_count": 8,
     "metadata": {},
     "output_type": "execute_result"
    }
   ],
   "source": [
    "attrs_data2.__dict__"
   ]
  },
  {
   "cell_type": "markdown",
   "metadata": {},
   "source": [
    "this reminds me of...how you instantiate a Pandas dataframe!"
   ]
  },
  {
   "cell_type": "markdown",
   "metadata": {},
   "source": [
    "### Enable Pandas and Pyarrow "
   ]
  },
  {
   "cell_type": "code",
   "execution_count": 9,
   "metadata": {},
   "outputs": [],
   "source": [
    "import pandas as pd\n",
    "import pyarrow as pa"
   ]
  },
  {
   "cell_type": "code",
   "execution_count": 10,
   "metadata": {},
   "outputs": [
    {
     "data": {
      "text/html": [
       "<div>\n",
       "<style scoped>\n",
       "    .dataframe tbody tr th:only-of-type {\n",
       "        vertical-align: middle;\n",
       "    }\n",
       "\n",
       "    .dataframe tbody tr th {\n",
       "        vertical-align: top;\n",
       "    }\n",
       "\n",
       "    .dataframe thead th {\n",
       "        text-align: right;\n",
       "    }\n",
       "</style>\n",
       "<table border=\"1\" class=\"dataframe\">\n",
       "  <thead>\n",
       "    <tr style=\"text-align: right;\">\n",
       "      <th></th>\n",
       "      <th>a</th>\n",
       "      <th>b</th>\n",
       "    </tr>\n",
       "  </thead>\n",
       "  <tbody>\n",
       "    <tr>\n",
       "      <th>0</th>\n",
       "      <td>1</td>\n",
       "      <td>41</td>\n",
       "    </tr>\n",
       "    <tr>\n",
       "      <th>1</th>\n",
       "      <td>2</td>\n",
       "      <td>40</td>\n",
       "    </tr>\n",
       "  </tbody>\n",
       "</table>\n",
       "</div>"
      ],
      "text/plain": [
       "   a   b\n",
       "0  1  41\n",
       "1  2  40"
      ]
     },
     "execution_count": 10,
     "metadata": {},
     "output_type": "execute_result"
    }
   ],
   "source": [
    "pd.DataFrame(attrs_data2.__dict__)"
   ]
  },
  {
   "cell_type": "code",
   "execution_count": 11,
   "metadata": {},
   "outputs": [],
   "source": [
    "@attrs.define(slots=False)\n",
    "class AttrsPandasArrowDataclassTwo:\n",
    "    a: np.array = np.array([-123, 1, 99])\n",
    "    b: np.array = np.array([1234, 0, -9876])\n",
    "\n",
    "    @property\n",
    "    def df(self):\n",
    "        return pd.DataFrame(self.__dict__)\n",
    "\n",
    "    @property\n",
    "    def pa(self):\n",
    "        return pa.table(self.__dict__)\n",
    "\n",
    "data = AttrsPandasArrowDataclassTwo()"
   ]
  },
  {
   "cell_type": "code",
   "execution_count": 12,
   "metadata": {},
   "outputs": [
    {
     "data": {
      "text/html": [
       "<div>\n",
       "<style scoped>\n",
       "    .dataframe tbody tr th:only-of-type {\n",
       "        vertical-align: middle;\n",
       "    }\n",
       "\n",
       "    .dataframe tbody tr th {\n",
       "        vertical-align: top;\n",
       "    }\n",
       "\n",
       "    .dataframe thead th {\n",
       "        text-align: right;\n",
       "    }\n",
       "</style>\n",
       "<table border=\"1\" class=\"dataframe\">\n",
       "  <thead>\n",
       "    <tr style=\"text-align: right;\">\n",
       "      <th></th>\n",
       "      <th>a</th>\n",
       "      <th>b</th>\n",
       "    </tr>\n",
       "  </thead>\n",
       "  <tbody>\n",
       "    <tr>\n",
       "      <th>0</th>\n",
       "      <td>-123</td>\n",
       "      <td>1234</td>\n",
       "    </tr>\n",
       "    <tr>\n",
       "      <th>1</th>\n",
       "      <td>1</td>\n",
       "      <td>0</td>\n",
       "    </tr>\n",
       "    <tr>\n",
       "      <th>2</th>\n",
       "      <td>99</td>\n",
       "      <td>-9876</td>\n",
       "    </tr>\n",
       "  </tbody>\n",
       "</table>\n",
       "</div>"
      ],
      "text/plain": [
       "     a     b\n",
       "0 -123  1234\n",
       "1    1     0\n",
       "2   99 -9876"
      ]
     },
     "execution_count": 12,
     "metadata": {},
     "output_type": "execute_result"
    }
   ],
   "source": [
    "data.df"
   ]
  },
  {
   "cell_type": "code",
   "execution_count": 13,
   "metadata": {},
   "outputs": [
    {
     "data": {
      "text/plain": [
       "pyarrow.Table\n",
       "a: int64\n",
       "b: int64\n",
       "----\n",
       "a: [[-123,1,99]]\n",
       "b: [[1234,0,-9876]]"
      ]
     },
     "execution_count": 13,
     "metadata": {},
     "output_type": "execute_result"
    }
   ],
   "source": [
    "data.pa"
   ]
  },
  {
   "cell_type": "markdown",
   "metadata": {},
   "source": [
    "### Nullable arrays"
   ]
  },
  {
   "cell_type": "markdown",
   "metadata": {},
   "source": [
    "### Type Enforcement"
   ]
  },
  {
   "cell_type": "markdown",
   "metadata": {},
   "source": [
    "### Inheritance"
   ]
  },
  {
   "cell_type": "markdown",
   "metadata": {
    "tags": []
   },
   "source": [
    "### In The End"
   ]
  },
  {
   "cell_type": "code",
   "execution_count": 14,
   "metadata": {},
   "outputs": [],
   "source": [
    "import numpy as np\n",
    "import pandas as pd\n",
    "import pyarrow as pa\n",
    "\n",
    "class ACHTUNG(Exception):\n",
    "    pass\n",
    "\n",
    "@attrs.define(slots=False)\n",
    "class BaseColumnarModel:\n",
    "\n",
    "    data_dict = {}\n",
    "    \n",
    "    def __attrs_post_init__(self):\n",
    "        fields = list(self.__dict__)\n",
    "        for field in fields:\n",
    "            v = self.__dict__[field]\n",
    "            _expected_dtype = self.__annotations__[field]\n",
    "            if hasattr(v, '_data'):  \n",
    "                _dtype = v._data.dtype  # for pandas ExtensionDtypes\n",
    "            elif hasattr(v, 'dtype'):\n",
    "                _dtype = v.dtype  # for numpy arrays\n",
    "            else:\n",
    "                _dtype = type(v)  # for scalars\n",
    "            \n",
    "            x = np.empty(0, dtype=_expected_dtype).dtype\n",
    "            y = np.empty(0, dtype=_dtype).dtype\n",
    "            if x != y:\n",
    "                raise ACHTUNG(f'wrong dtype in `{field}`: `{_expected_dtype}` is not `{_dtype}`')\n",
    "        return\n",
    "\n",
    "    def __len__(self):\n",
    "        return max(np.array(v).size for v in self.__dict__.values())\n",
    "    \n",
    "    @classmethod\n",
    "    def empty(cls):\n",
    "        empty_fields = {}\n",
    "        for k, v in cls.__annotations__.items():\n",
    "            empty_fields[k] = np.empty(0, dtype=v)\n",
    "        return cls(**empty_fields)\n",
    "\n",
    "    @property\n",
    "    def df(self):\n",
    "        return pd.DataFrame(self.__dict__)\n",
    "\n",
    "    @property\n",
    "    def pa(self):\n",
    "        _length = self.__len__()\n",
    "        arrow_dict = {}\n",
    "        for k, v in self.__dict__.items():\n",
    "            if pd.api.types.is_scalar(v):\n",
    "                arrow_dict[k] = pa.array(np.full(_length, v, dtype=type(v)))\n",
    "            else:\n",
    "                arrow_dict[k] = pa.array(v)\n",
    "        return pa.table(arrow_dict, metadata=self.data_dict)\n",
    "\n",
    "@attrs.define(slots=False)\n",
    "class CoolDataFour(BaseColumnarModel):\n",
    "    \"\"\"Example Dataclass.\"\"\"\n",
    "    \n",
    "    a: np.int8\n",
    "    b: np.bool_\n",
    "    c: str\n",
    "    d: float\n",
    "    \n",
    "    data_dict = {\n",
    "        'a': 'integer field',\n",
    "        'b': 'is it important?',\n",
    "        'c': 'text',\n",
    "        'd': 'price to pay',\n",
    "    }"
   ]
  },
  {
   "cell_type": "code",
   "execution_count": 15,
   "metadata": {},
   "outputs": [
    {
     "data": {
      "text/html": [
       "<div>\n",
       "<style scoped>\n",
       "    .dataframe tbody tr th:only-of-type {\n",
       "        vertical-align: middle;\n",
       "    }\n",
       "\n",
       "    .dataframe tbody tr th {\n",
       "        vertical-align: top;\n",
       "    }\n",
       "\n",
       "    .dataframe thead th {\n",
       "        text-align: right;\n",
       "    }\n",
       "</style>\n",
       "<table border=\"1\" class=\"dataframe\">\n",
       "  <thead>\n",
       "    <tr style=\"text-align: right;\">\n",
       "      <th></th>\n",
       "      <th>a</th>\n",
       "      <th>b</th>\n",
       "      <th>c</th>\n",
       "      <th>d</th>\n",
       "    </tr>\n",
       "  </thead>\n",
       "  <tbody>\n",
       "  </tbody>\n",
       "</table>\n",
       "</div>"
      ],
      "text/plain": [
       "Empty DataFrame\n",
       "Columns: [a, b, c, d]\n",
       "Index: []"
      ]
     },
     "execution_count": 15,
     "metadata": {},
     "output_type": "execute_result"
    }
   ],
   "source": [
    "CoolDataFour.empty().df  # for building database templates"
   ]
  },
  {
   "cell_type": "code",
   "execution_count": 16,
   "metadata": {},
   "outputs": [
    {
     "data": {
      "text/plain": [
       "pyarrow.Table\n",
       "a: int8\n",
       "b: bool\n",
       "c: string\n",
       "d: double\n",
       "----\n",
       "a: [[42]]\n",
       "b: [[true]]\n",
       "c: [[\"a\"]]\n",
       "d: [[1.2]]"
      ]
     },
     "execution_count": 16,
     "metadata": {},
     "output_type": "execute_result"
    }
   ],
   "source": [
    "all_scalars = CoolDataFour(a=np.int8(42), b=np.bool_(True), c='abc', d=1.2)\n",
    "all_scalars.pa"
   ]
  },
  {
   "cell_type": "code",
   "execution_count": 17,
   "metadata": {},
   "outputs": [
    {
     "data": {
      "text/plain": [
       "pyarrow.Table\n",
       "a: int8\n",
       "b: bool\n",
       "c: string\n",
       "d: double\n",
       "----\n",
       "a: [[99,null]]\n",
       "b: [[false,true]]\n",
       "c: [[\"a\",\"a\"]]\n",
       "d: [[0.5,0.5]]"
      ]
     },
     "execution_count": 17,
     "metadata": {},
     "output_type": "execute_result"
    }
   ],
   "source": [
    "somenulls = CoolDataFour(a=pd.array([99,None], dtype=pd.Int8Dtype()), b=np.bool_([0,1]), c='abc', d=1/2)\n",
    "somenulls.pa"
   ]
  },
  {
   "cell_type": "code",
   "execution_count": 18,
   "metadata": {},
   "outputs": [
    {
     "data": {
      "text/plain": [
       "a: int8\n",
       "b: bool\n",
       "c: string\n",
       "d: double\n",
       "-- schema metadata --\n",
       "a: 'integer field'\n",
       "b: 'is it important?'\n",
       "c: 'text'\n",
       "d: 'price to pay'"
      ]
     },
     "execution_count": 18,
     "metadata": {},
     "output_type": "execute_result"
    }
   ],
   "source": [
    "somenulls.pa.schema"
   ]
  },
  {
   "cell_type": "markdown",
   "metadata": {},
   "source": [
    "## Now What?\n",
    "\n",
    "Share your feedback in the comments!"
   ]
  },
  {
   "cell_type": "code",
   "execution_count": null,
   "metadata": {},
   "outputs": [],
   "source": []
  }
 ],
 "metadata": {
  "kernelspec": {
   "display_name": "Python [conda env:root] *",
   "language": "python",
   "name": "conda-root-py"
  },
  "language_info": {
   "codemirror_mode": {
    "name": "ipython",
    "version": 3
   },
   "file_extension": ".py",
   "mimetype": "text/x-python",
   "name": "python",
   "nbconvert_exporter": "python",
   "pygments_lexer": "ipython3",
   "version": "3.8.10"
  },
  "toc-autonumbering": true,
  "varInspector": {
   "cols": {
    "lenName": 16,
    "lenType": 16,
    "lenVar": 40
   },
   "kernels_config": {
    "python": {
     "delete_cmd_postfix": "",
     "delete_cmd_prefix": "del ",
     "library": "var_list.py",
     "varRefreshCmd": "print(var_dic_list())"
    },
    "r": {
     "delete_cmd_postfix": ") ",
     "delete_cmd_prefix": "rm(",
     "library": "var_list.r",
     "varRefreshCmd": "cat(var_dic_list()) "
    }
   },
   "types_to_exclude": [
    "module",
    "function",
    "builtin_function_or_method",
    "instance",
    "_Feature"
   ],
   "window_display": false
  }
 },
 "nbformat": 4,
 "nbformat_minor": 4
}
